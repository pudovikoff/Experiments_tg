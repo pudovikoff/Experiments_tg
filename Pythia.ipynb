{
  "nbformat": 4,
  "nbformat_minor": 0,
  "metadata": {
    "colab": {
      "provenance": [],
      "authorship_tag": "ABX9TyOP4Ee2McwdM2LRau+mJGKu",
      "include_colab_link": true
    },
    "kernelspec": {
      "name": "ir",
      "display_name": "R"
    },
    "language_info": {
      "name": "R"
    }
  },
  "cells": [
    {
      "cell_type": "markdown",
      "metadata": {
        "id": "view-in-github",
        "colab_type": "text"
      },
      "source": [
        "<a href=\"https://colab.research.google.com/github/pudovikoff/Experiments_tg/blob/main/Pythia.ipynb\" target=\"_parent\"><img src=\"https://colab.research.google.com/assets/colab-badge.svg\" alt=\"Open In Colab\"/></a>"
      ]
    },
    {
      "cell_type": "markdown",
      "source": [
        "# Correllation between Pythia, ETH, BTC in daily returns."
      ],
      "metadata": {
        "id": "Xbwvk6kDJL2T"
      }
    },
    {
      "cell_type": "code",
      "source": [
        "This notebook download and analyze daily price changes in Pythia, ETH and BTC prices."
      ],
      "metadata": {
        "id": "4Z4jVhdvp4Br"
      },
      "execution_count": null,
      "outputs": []
    },
    {
      "cell_type": "code",
      "source": [
        "# Install and load required packages\n",
        "install.packages(c(\"httr\", \"jsonlite\", \"dplyr\", \"xts\"))\n",
        "library(httr)\n",
        "library(jsonlite)\n",
        "library(dplyr)\n",
        "library(xts)"
      ],
      "metadata": {
        "id": "wETASR1yJXII"
      },
      "execution_count": null,
      "outputs": []
    },
    {
      "cell_type": "code",
      "source": [
        "# Fetch historical data function\n",
        "get_historical_data <- function(crypto_id, vs_currency = \"usd\", days = \"180\") {\n",
        "  url <- paste0(\"https://api.coingecko.com/api/v3/coins/\", crypto_id, \"/market_chart\")\n",
        "  response <- GET(url, query = list(vs_currency = vs_currency, days = days))\n",
        "  data <- fromJSON(content(response, \"text\"))\n",
        "  return(data$prices)\n",
        "}\n",
        "\n",
        "# Convert historical price data to daily returns\n",
        "get_daily_returns <- function(prices) {\n",
        "  # Convert list to a data frame\n",
        "  prices_df <- as.data.frame(prices)\n",
        "  colnames(prices_df) <- c(\"timestamp\", \"price\")\n",
        "  prices_df$timestamp <- as.POSIXct(prices_df$timestamp / 1000, origin = \"1970-01-01\")\n",
        "\n",
        "  # Calculate daily returns\n",
        "  prices_df$daily_return <- c(NA, diff(prices_df$price) / head(prices_df$price, -1))\n",
        "\n",
        "  # Remove NA values\n",
        "  prices_df <- na.omit(prices_df)\n",
        "\n",
        "  # Convert to xts format (time series data)\n",
        "  prices_xts <- xts(prices_df$daily_return, order.by = prices_df$timestamp)\n",
        "\n",
        "  return(prices_xts)\n",
        "}\n",
        "\n",
        "# Fetch historical data for BTC, ETH, and PYTHIA\n",
        "btc_prices <- get_historical_data(\"bitcoin\")\n",
        "eth_prices <- get_historical_data(\"ethereum\")\n",
        "pythia_prices <- get_historical_data(\"pythia\")  # Assuming Pythia is available\n",
        "\n",
        "# Convert to daily returns\n",
        "btc_returns <- get_daily_returns(btc_prices)\n",
        "eth_returns <- get_daily_returns(eth_prices)\n",
        "pythia_returns <- get_daily_returns(pythia_prices)\n",
        "\n",
        "# Merge the returns data by date\n",
        "combined_returns <- merge(btc_returns, eth_returns, pythia_returns, all = FALSE)\n",
        "colnames(combined_returns) <- c(\"BTC\", \"ETH\", \"PYTHIA\")\n",
        "\n",
        "# Calculate the correlation matrix of the daily returns\n",
        "correlation_matrix <- cor(combined_returns)\n",
        "\n",
        "# Print the correlation matrix\n",
        "print(correlation_matrix)\n"
      ],
      "metadata": {
        "colab": {
          "base_uri": "https://localhost:8080/"
        },
        "id": "va9W7w3lIxAs",
        "outputId": "0f03775a-cf6e-4876-9851-feebf875b44b"
      },
      "execution_count": null,
      "outputs": [
        {
          "output_type": "stream",
          "name": "stderr",
          "text": [
            "Installing packages into ‘/usr/local/lib/R/site-library’\n",
            "(as ‘lib’ is unspecified)\n",
            "\n"
          ]
        },
        {
          "output_type": "stream",
          "name": "stdout",
          "text": [
            "             BTC       ETH    PYTHIA\n",
            "BTC    1.0000000 0.7580616 0.1950163\n",
            "ETH    0.7580616 1.0000000 0.2016643\n",
            "PYTHIA 0.1950163 0.2016643 1.0000000\n"
          ]
        }
      ]
    }
  ]
}